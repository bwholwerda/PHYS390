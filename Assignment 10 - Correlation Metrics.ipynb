{
 "cells": [
  {
   "cell_type": "markdown",
   "metadata": {},
   "source": [
    "# Correlation Metrics\n",
    "\n",
    "## Authors\n",
    "B.W. Holwerda\n",
    "\n",
    "## Learning Goals\n",
    "* learn about different correlation metrics\n",
    "* Pearson, Spearman and Kendall Tau rankings\n",
    "* Correlation is not causation\n",
    "* But strong correlation does imply a common origin.\n",
    "\n",
    "## Keywords\n",
    "Pearson ranking, Spearman ranking, Kendall tau ranking, correlation\n",
    "\n",
    "## Companion Content\n",
    "\n",
    "\n",
    "## Summary\n",
    "One of the first things in physics of large data samples is to determine if there are correlations between samples. The Pearson, Spearman and Kendall rankings are all correlation metrics which come with a significance estimate.\n",
    "\n",
    "<hr>"
   ]
  },
  {
   "cell_type": "markdown",
   "metadata": {},
   "source": [
    "\n",
    "## Student Name and ID:\n",
    "\n",
    "\n",
    "\n",
    "## Date:\n",
    "\n",
    "<hr>"
   ]
  },
  {
   "cell_type": "markdown",
   "metadata": {},
   "source": [
    "### Galaxy properties.\n",
    "\n",
    "In Assignment 5, we encountered a catalog of galaxies. We will now see which of the galaxy properties are related, how strongly and how significantly.\n",
    "\n",
    "\n",
    "0 - GAMA CATAID\n",
    "\n",
    "1 - Stellar mass (log10 solar masses)\n",
    "\n",
    "2 - u-r colour\n",
    "\n",
    "3 - S'ersic index (log10)\n",
    "\n",
    "4 - Half-light radius (log10 kpc)\n",
    "\n",
    "5 - Specific star formation rate (log10 Gyr^-1)\n",
    "\n"
   ]
  },
  {
   "cell_type": "code",
   "execution_count": 1,
   "metadata": {},
   "outputs": [],
   "source": [
    "import matplotlib.pyplot as plt\n",
    "from astropy.io import ascii\n",
    "from scipy.stats import spearmanr\n",
    "from scipy.stats import pearsonr\n",
    "from scipy.stats import kendalltau\n",
    "\n",
    "\n",
    "\n",
    "data = ascii.read(\"GAMA.csv\", format='csv', names=['cataid','Mstar','u-r','n','r50','sSFR'],fast_reader=False)\n"
   ]
  },
  {
   "cell_type": "markdown",
   "metadata": {},
   "source": [
    "## Spearman and Pearson Rankings.\n",
    "\n",
    "**Spearman's ranking** is a nonparametric measure of rank correlation (statistical dependence between the rankings of two variables). It assesses how well the relationship between two variables can be described using a *monotonic function*.\n",
    "\n",
    "**Pearson ranking** is a measure of the *linear* correlation between two variables X and Y. \n",
    "\n",
    "**Kendall $\\tau$** is another measure of monotonic function. Both this and the Spearman ranking are cases of a general correlation coefficient.\n"
   ]
  },
  {
   "cell_type": "markdown",
   "metadata": {},
   "source": [
    "### Exercise 1 -- Which two parameters are the most correlation according to their Spearman ranking\n",
    "\n",
    "hint: run through the list of column names and use *for* loops."
   ]
  },
  {
   "cell_type": "code",
   "execution_count": 2,
   "metadata": {},
   "outputs": [],
   "source": [
    "# student work here\n",
    "\n",
    "\n"
   ]
  },
  {
   "cell_type": "markdown",
   "metadata": {},
   "source": [
    "### Exercise 2 -- Is that correlation statistically significant? \n",
    "\n",
    "What is the p-value?"
   ]
  },
  {
   "cell_type": "markdown",
   "metadata": {},
   "source": [
    "*your answer here*"
   ]
  },
  {
   "cell_type": "markdown",
   "metadata": {},
   "source": [
    "### Exercise 3 -- Did you use an 'if' statement to find the highest ranking? \n",
    "\n",
    "if not, what would one look like?"
   ]
  },
  {
   "cell_type": "markdown",
   "metadata": {},
   "source": [
    "*your answer here*"
   ]
  },
  {
   "cell_type": "markdown",
   "metadata": {},
   "source": [
    "### Exercise 4 --  Which two parameters are the most correlation according to their Pearson ranking\n",
    "\n",
    "hint: define the list of column names and use *for* loops."
   ]
  },
  {
   "cell_type": "code",
   "execution_count": 3,
   "metadata": {},
   "outputs": [],
   "source": [
    "# student work here\n"
   ]
  },
  {
   "cell_type": "markdown",
   "metadata": {},
   "source": [
    "### Exercise 5 -- Now do this for the Kendall $\\tau$"
   ]
  },
  {
   "cell_type": "code",
   "execution_count": 4,
   "metadata": {},
   "outputs": [],
   "source": [
    "# student work here\n",
    "\n",
    "\n"
   ]
  },
  {
   "cell_type": "markdown",
   "metadata": {},
   "source": [
    "### Exercise 6 -- Plot the most and second most correlated values against each other\n",
    "\n",
    "According to the above correlation functions, two pairs of values are most correlated. "
   ]
  },
  {
   "cell_type": "code",
   "execution_count": 5,
   "metadata": {},
   "outputs": [],
   "source": [
    "## Plot the two most correlated values \n",
    "# student work here\n"
   ]
  },
  {
   "cell_type": "code",
   "execution_count": 6,
   "metadata": {},
   "outputs": [],
   "source": [
    "## plot the second most correlated values here:\n",
    "# student work here\n"
   ]
  },
  {
   "cell_type": "markdown",
   "metadata": {},
   "source": [
    "### Exercise 7 -- Are both correlations the similar?\n",
    "\n",
    "The two strongest correlations, are they similar? Or is there evidence for sub-populations? (hint: set alpha=0.1 to see the density of points).\n"
   ]
  },
  {
   "cell_type": "markdown",
   "metadata": {},
   "source": [
    "*your answer here*"
   ]
  },
  {
   "cell_type": "markdown",
   "metadata": {},
   "source": [
    "### Exercise 8 -- Use the correlation\n",
    "\n",
    "Do you think the u-r color would make a good estimator for the stellar mass? Motivate why or why not."
   ]
  },
  {
   "cell_type": "markdown",
   "metadata": {},
   "source": [
    "*your answer and motivation here*"
   ]
  }
 ],
 "metadata": {
  "kernelspec": {
   "display_name": "Python 3",
   "language": "python",
   "name": "python3"
  },
  "language_info": {
   "codemirror_mode": {
    "name": "ipython",
    "version": 3
   },
   "file_extension": ".py",
   "mimetype": "text/x-python",
   "name": "python",
   "nbconvert_exporter": "python",
   "pygments_lexer": "ipython3",
   "version": "3.5.4"
  }
 },
 "nbformat": 4,
 "nbformat_minor": 2
}
