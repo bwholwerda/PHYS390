{
 "cells": [
  {
   "cell_type": "markdown",
   "metadata": {},
   "source": [
    "# Statistical tests of Samples\n",
    "\n",
    "## Authors\n",
    "B.W. Holwerda\n",
    "\n",
    "## Learning Goals\n",
    "* How to test against a distribution\n",
    "* How to test if two subsamples have been drawn from the same distribution.\n",
    "* Kolmogorov-Smirnov test\n",
    "* Anderson-Darling test\n",
    "\n",
    "## Keywords\n",
    "distributions, Kolmogorov-Smirnov test, Anderson-Darling test, K-S test, A-D test, 2 sample tests\n",
    "\n",
    "\n",
    "\n",
    "## Companion Content\n",
    "\n",
    "\n",
    "## Summary\n",
    "\n",
    "In physics, we often have to compare a set of data to an idealized distribution or we have two sets of data and we need to know if they are from the same parent distribution. There are some statistical tests to help determine both cases: the Kolmogorov-Smirnov test and the Anderson-Darling test. \n",
    "\n",
    "<hr>"
   ]
  },
  {
   "cell_type": "markdown",
   "metadata": {},
   "source": [
    "\n",
    "## Student Name and ID:\n",
    "\n",
    "\n",
    "\n",
    "## Date:\n",
    "\n",
    "<hr>"
   ]
  },
  {
   "cell_type": "markdown",
   "metadata": {},
   "source": [
    "## Statistical tests if the data is from the same parent sample or consistent with a distribution\n",
    "\n",
    "**Kolmogorov-Smirnov (K-S)** test is a nonparametric test of the equality of continuous (or discontinuous, see Section 2.2), one-dimensional probability distributions that can be used to compare a sample with a reference probability distribution (one-sample K–S test), or to compare two samples (two-sample K–S test). *The K-S value is highest (1) when both sample are dissimilar, and lowest (0) when both are from the same parent distribution.*\n",
    "\n",
    "**Anderson–Darling (A-D)** test is a statistical test of whether a given sample of data is drawn from a given probability distribution. In its basic form, the test assumes that there are no parameters to be estimated in the distribution being tested, in which case the test and its set of critical values is distribution-free. However, the test is most often used in contexts where a family of distributions is being tested. Null hypothesis is rejected if $A^{{*2}}$ exceeds 0.631, 0.752, 0.873, or 1.035 at 10%, 5%, 2.5%, and 1%.\n",
    "\n",
    "There are two versions of both tests in Python: one where the test is a single sample against a distribution (kstest, anderson) and one where two samples are compared against each other (ks_2samp, anderson_ksamp). Both have their uses."
   ]
  },
  {
   "cell_type": "code",
   "execution_count": 1,
   "metadata": {},
   "outputs": [],
   "source": [
    "import matplotlib.pyplot as plt\n",
    "from astropy.io import ascii\n",
    "import numpy as np\n",
    "from scipy.stats import kstest\n",
    "from scipy.stats import ks_2samp\n",
    "from scipy.stats import anderson\n",
    "from scipy.stats import anderson_ksamp\n",
    "\n",
    "# reading in the GAMA data\n",
    "data = ascii.read(\"GAMA.csv\", format='csv', names=['cataid','Mstar','u-r','n','r50','sSFR'],fast_reader=False)\n",
    "\n",
    "\n"
   ]
  },
  {
   "cell_type": "markdown",
   "metadata": {},
   "source": [
    "### Exercise 1 - test Gaussian distribution of values with K-S and A-D \n",
    "\n",
    "The single sample K-S and A-D tests test against a distribution, which can be used for a variety of distributions (pretty flexible) with the default being the normal (Gaussian) distribution. \n",
    "\n",
    "define a Gaussian distribution with random.normal and test with both tests. Use a Gaussian distribution of the *same size* as the data in GAMA catalog read in above."
   ]
  },
  {
   "cell_type": "code",
   "execution_count": 2,
   "metadata": {},
   "outputs": [],
   "source": [
    "# student work\n"
   ]
  },
  {
   "cell_type": "markdown",
   "metadata": {},
   "source": [
    "### Exercise 2 -- sample size\n",
    "\n",
    "Now increase the sample size by a lot (100x the above sample) for the Gaussian test distribution. \n",
    "\n",
    "What happens to the K-S test value and the A-D test value?"
   ]
  },
  {
   "cell_type": "code",
   "execution_count": 3,
   "metadata": {},
   "outputs": [],
   "source": [
    "#student work\n"
   ]
  },
  {
   "cell_type": "markdown",
   "metadata": {},
   "source": [
    "*your answer here*"
   ]
  },
  {
   "cell_type": "markdown",
   "metadata": {},
   "source": [
    "### Exercise 3 --  Test Mstar sample against the normal distribution with K-S and A-D\n",
    "\n",
    "The K-S and A-D tests test against a distribution, which can be used for a variety of distributions (pretty flexible) with the default being the normal (Gaussian) distribution. \n",
    "\n",
    "Is this distribution Gaussian according to the K-S test? Is it Gaussian according to the A-D test at 2.5% significance?"
   ]
  },
  {
   "cell_type": "code",
   "execution_count": 4,
   "metadata": {},
   "outputs": [],
   "source": [
    "# student work\n"
   ]
  },
  {
   "cell_type": "markdown",
   "metadata": {},
   "source": [
    "*your answer here*"
   ]
  },
  {
   "cell_type": "markdown",
   "metadata": {},
   "source": [
    "### Exercise 4 -- Least and most Gaussian of the data \n",
    "\n",
    "run through all the distributions in the data and see which one is the most and the least like a Gaussian distribution. \n",
    "Use the K-S test and the A-D test at 5% (p=0.05) significance. \n"
   ]
  },
  {
   "cell_type": "code",
   "execution_count": 5,
   "metadata": {},
   "outputs": [],
   "source": [
    "# student work\n"
   ]
  },
  {
   "cell_type": "markdown",
   "metadata": {},
   "source": [
    "*your answer here*"
   ]
  },
  {
   "cell_type": "markdown",
   "metadata": {},
   "source": [
    "### Exercise 5 -- plot the K-S test values against the A-D values\n",
    "\n",
    "Plot the values for each collection in the GAMA data. Do both test values agree?\n"
   ]
  },
  {
   "cell_type": "code",
   "execution_count": 6,
   "metadata": {},
   "outputs": [],
   "source": [
    "# student work\n"
   ]
  },
  {
   "cell_type": "markdown",
   "metadata": {},
   "source": [
    "### Exercise 6 -- Plot the histogram of the most and least Gaussian data distributions."
   ]
  },
  {
   "cell_type": "code",
   "execution_count": 7,
   "metadata": {},
   "outputs": [],
   "source": [
    "# student work\n"
   ]
  },
  {
   "cell_type": "code",
   "execution_count": 8,
   "metadata": {},
   "outputs": [],
   "source": [
    "# student work\n"
   ]
  },
  {
   "cell_type": "markdown",
   "metadata": {},
   "source": [
    "### Exercise 7 -- Compare the most and least Gaussian distribution to the Gaussian distribution in a normalized, cumulative histogram.\n",
    "\n",
    "The first set distributions should be pretty close according to the K-S and A-D tests. \n",
    "use: plt.hist(data,bins=100,cumulative=True,histtype='step',normed=True);"
   ]
  },
  {
   "cell_type": "code",
   "execution_count": 9,
   "metadata": {},
   "outputs": [],
   "source": [
    "# student work here\n",
    "\n"
   ]
  },
  {
   "cell_type": "markdown",
   "metadata": {},
   "source": [
    "### Exercise 8 -- Comparing two samples.\n",
    "\n",
    "First we draw two random samples from the Mstar data to compare. These should be indistinguisheable from each other. If the draw is truely random, there should be no difference and the K-S or A-D 2-sample versions should reflect that. Pick 100 objects at random with np.random.choice\n",
    "\n",
    "What do both test conclude?"
   ]
  },
  {
   "cell_type": "code",
   "execution_count": 10,
   "metadata": {},
   "outputs": [],
   "source": [
    "# student work here\n"
   ]
  },
  {
   "cell_type": "markdown",
   "metadata": {},
   "source": [
    "*your answer here*"
   ]
  },
  {
   "cell_type": "markdown",
   "metadata": {},
   "source": [
    "### Exercise 9 -- samples based on a criterion\n",
    "\n",
    "Now we will select the blue and red galaxies using the u-r color criterion and np.where to split the Mstar sample into two distinct populations. Blue galaxies with u-r > 0 and red <0. \n",
    "\n",
    "Using the K-S and A-D 2-sample tests, are these populations from the same distribution?\n",
    "\n"
   ]
  },
  {
   "cell_type": "code",
   "execution_count": null,
   "metadata": {},
   "outputs": [],
   "source": []
  },
  {
   "cell_type": "markdown",
   "metadata": {},
   "source": [
    "*your answer here*"
   ]
  },
  {
   "cell_type": "code",
   "execution_count": null,
   "metadata": {},
   "outputs": [],
   "source": []
  }
 ],
 "metadata": {
  "kernelspec": {
   "display_name": "Python 3",
   "language": "python",
   "name": "python3"
  },
  "language_info": {
   "codemirror_mode": {
    "name": "ipython",
    "version": 3
   },
   "file_extension": ".py",
   "mimetype": "text/x-python",
   "name": "python",
   "nbconvert_exporter": "python",
   "pygments_lexer": "ipython3",
   "version": "3.5.4"
  }
 },
 "nbformat": 4,
 "nbformat_minor": 2
}
