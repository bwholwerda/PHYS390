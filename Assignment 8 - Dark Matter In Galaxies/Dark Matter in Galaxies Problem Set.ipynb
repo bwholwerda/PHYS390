{
 "cells": [
  {
   "cell_type": "markdown",
   "metadata": {},
   "source": [
    "# Dark Matter in Galaxies\n",
    "\n",
    "## Authors\n",
    "B.W. Holwerda\n",
    "\n",
    "## Learning Goals\n",
    "* Kinematic estimates of Dark matter in spheroids\n",
    "* Dark Matter\n",
    "\n",
    "## Keywords\n",
    "Dark Matter, Kinematic mass estimate, mass-to-light ratio\n",
    "\n",
    "## Companion Content\n",
    "Ryden & Peterson's \"Foundations in Astrophysics\" \n",
    "\n",
    "## Summary\n",
    "Evidence of dark matter in galaxies is predominantly from their kinematics. As an example, a galaxy with little or no dark matter is explored.\n",
    "\n",
    "\n",
    "<hr>"
   ]
  },
  {
   "cell_type": "markdown",
   "metadata": {},
   "source": [
    "\n",
    "## Student Name and ID:\n",
    "\n",
    "\n",
    "\n",
    "## Date:\n",
    "\n",
    "<hr>"
   ]
  },
  {
   "cell_type": "markdown",
   "metadata": {},
   "source": [
    "To calculate the mass of a spiral (disk) galaxy using the velocity, the radius we measure it at and the gravitational constant ($G$):\n",
    "\n",
    "\\begin{equation}\n",
    "M = {v_c^2 R \\over G}\n",
    "\\end{equation} \n"
   ]
  },
  {
   "cell_type": "markdown",
   "metadata": {},
   "source": [
    "Spheroidal (elliptical) galaxies do not rotate and so we need to use the stellar *dispersion* ($\\sigma$), it's half-light radius ($r_h$) to measure it's mass:\n",
    "\n",
    "\n",
    "\\begin{equation}\n",
    "M = 7.5 {\\sigma^2 r_h \\over G}\n",
    "\\end{equation}\n",
    "\n",
    "In 2018, van Dokkum+ reported a ultra-diffuse galaxy *lacking* dark matter. See the full paper here: \n",
    "http://arxiv.org/abs/1803.10237\n",
    "\n",
    "\n",
    "The data-file with the redshifts of the globular cluster throughout this galaxy is in UDG.txt. Read in the radii that they have been found and their systematic redshifts.\n",
    "\n",
    "1. Plot Redshift and radius of this galaxy's globular clusters\n",
    "2. Determine the *mean* of the redshifts as the galaxy's redshifts. \n",
    "3. Determine the mean radius (in kpc) of all these Globular Clusters.\n",
    "4. Determine the *dispersion* of the redshifts deviation from the systematic velocity std(abs((v-vmean))\n",
    "5. Use this dispersion to calculate the mass (in kg and solar masses) of this galaxy.\n",
    "6. The *stellar mass* of this galaxy is $2\\times10^8 M_\\odot$ solar masses. You have the total mass of this galaxy, is there evidence of another component e.g. dark matter?\n"
   ]
  },
  {
   "cell_type": "markdown",
   "metadata": {},
   "source": [
    "## First we read in the information van Dokkum+ (2018) gave on the redshifts of the Globular clusters in this Ultra-Diffuse Galaxy\n"
   ]
  },
  {
   "cell_type": "code",
   "execution_count": 27,
   "metadata": {},
   "outputs": [
    {
     "name": "stdout",
     "output_type": "stream",
     "text": [
      " id r_kpc  v   ev_min ev_plus\n",
      "--- ----- ---- ------ -------\n",
      " 39  7.55 1818      7       7\n",
      " 59  4.91 1799     15      16\n",
      " 71  2.57 1805      8       6\n",
      " 73  6.77 1814      3       3\n",
      " 77   0.4 1804      6       6\n",
      " 85  2.26 1801      6       5\n",
      " 91  1.55 1802     10      10\n",
      " 92  1.94 1789      7       6\n",
      " 98  3.59 1764     14      11\n",
      "101  4.77 1800     14      13\n"
     ]
    }
   ],
   "source": [
    "from astropy.io import ascii\n",
    "data = ascii.read(\"UDG.txt\")  \n",
    "print(data)\n",
    "\n",
    "r = data['r_kpc']\n",
    "v = data['v']"
   ]
  },
  {
   "cell_type": "code",
   "execution_count": null,
   "metadata": {},
   "outputs": [],
   "source": [
    "## 1. Plot redshift vs radius"
   ]
  },
  {
   "cell_type": "code",
   "execution_count": 5,
   "metadata": {},
   "outputs": [
    {
     "data": {
      "image/png": "[encoded data removed]",
      "text/plain": [
       "<matplotlib.figure.Figure at 0x1059327b8>"
      ]
     },
     "metadata": {},
     "output_type": "display_data"
    }
   ],
   "source": [
    "import numpy as np \n",
    "import matplotlib.pyplot as plt\n",
    "    "
   ]
  },
  {
   "cell_type": "markdown",
   "metadata": {},
   "source": [
    "## 2. Determine the *mean* of the redshifts as the galaxy's redshifts. Make a histogram and mark the mean."
   ]
  },
  {
   "cell_type": "code",
   "execution_count": 8,
   "metadata": {},
   "outputs": [
    {
     "name": "stdout",
     "output_type": "stream",
     "text": [
      "1799.6\n"
     ]
    },
    {
     "data": {
      "image/png": "[encoded data removed]",
      "text/plain": [
       "<matplotlib.figure.Figure at 0x1512789710>"
      ]
     },
     "metadata": {},
     "output_type": "display_data"
    }
   ],
   "source": [
    "\n",
    "# student work:\n"
   ]
  },
  {
   "cell_type": "markdown",
   "metadata": {},
   "source": [
    "## 3. Determine the mean radius (in kpc) of all these Globular Clusters.\n"
   ]
  },
  {
   "cell_type": "code",
   "execution_count": 14,
   "metadata": {},
   "outputs": [
    {
     "name": "stdout",
     "output_type": "stream",
     "text": [
      "3.631\n"
     ]
    }
   ],
   "source": [
    "# student work:\n"
   ]
  },
  {
   "cell_type": "markdown",
   "metadata": {},
   "source": [
    "## 4. Determine the *dispersion* of the redshifts difference from the systematic velocity (v-v_mean)\n",
    "$$ \\sigma = std( abs( v-v_{mean} ))$$"
   ]
  },
  {
   "cell_type": "code",
   "execution_count": null,
   "metadata": {},
   "outputs": [],
   "source": [
    "# student work"
   ]
  },
  {
   "cell_type": "markdown",
   "metadata": {},
   "source": [
    "## 5. Compute the kinematic mass of this galaxy in *solar masses* and compare against the stellar mass. "
   ]
  },
  {
   "cell_type": "code",
   "execution_count": 15,
   "metadata": {},
   "outputs": [
    {
     "name": "stdout",
     "output_type": "stream",
     "text": [
      "3.631\n",
      "10.5180986875\n",
      "1.39304937125e+39\n",
      "8.84533172546\n",
      "0.938464520417\n",
      "3.50188378896\n"
     ]
    }
   ],
   "source": [
    "G = 6.67408*10**(-11)\n",
    "Msun = 1.989*10**(30) # kg\n",
    "kpc = 3.086*10**16 # m\n",
    "Mstars = 2*10**8 # Stellar mass (inferred from the amount of light)\n",
    "\n",
    "\n",
    "# student work:\n"
   ]
  },
  {
   "cell_type": "markdown",
   "metadata": {},
   "source": [
    "## 6. The ratio total (kinematic) mass to stellar mass for typical galaxies ranges from 30x to >100x What is the order of magnitude for the kinematic/stellar mass in this galaxy?"
   ]
  },
  {
   "cell_type": "markdown",
   "metadata": {},
   "source": [
    "*reason your answer using the above calculation*"
   ]
  },
  {
   "cell_type": "markdown",
   "metadata": {},
   "source": [
    "## References\n",
    "van Dokkum+ (2018) - http://arxiv.org/abs/1803.10237\n",
    "\n"
   ]
  }
 ],
 "metadata": {
  "kernelspec": {
   "display_name": "Python 3",
   "language": "python",
   "name": "python3"
  },
  "language_info": {
   "codemirror_mode": {
    "name": "ipython",
    "version": 3
   },
   "file_extension": ".py",
   "mimetype": "text/x-python",
   "name": "python",
   "nbconvert_exporter": "python",
   "pygments_lexer": "ipython3",
   "version": "3.5.4"
  }
 },
 "nbformat": 4,
 "nbformat_minor": 2
}
