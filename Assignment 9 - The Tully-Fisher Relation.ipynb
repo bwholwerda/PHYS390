{
 "cells": [
  {
   "cell_type": "markdown",
   "metadata": {},
   "source": [
    "# The Tully-Fisher Relation\n",
    "\n",
    "## Authors\n",
    "B.W. Holwerda\n",
    "\n",
    "## Learning Goals\n",
    "* Spiral Galaxies scaling relations hold over many orders of magnitude\n",
    "* The T-F has intrinsic scatter in it.\n",
    "* To account for dark matter content, all other components need to be accounted for (gas mass etc).\n",
    "* Fit a line to this relation.\n",
    "\n",
    "## Keywords\n",
    "Dark Matter, Scaling Relation, Distance Measures\n",
    "\n",
    "## Companion Content\n",
    "Ryden & Peterson's \"Foundations in Astrophysics\" \n",
    "\n",
    "## Summary\n",
    "Evidence of dark matter in galaxies is predominantly from their kinematics. \n",
    "\n",
    "rotation curve and T-F data from: http://astroweb.case.edu/ssm/data/\n",
    "\n",
    "<hr>"
   ]
  },
  {
   "cell_type": "markdown",
   "metadata": {},
   "source": [
    "\n",
    "## Student Name and ID:\n",
    "\n",
    "\n",
    "\n",
    "## Date:\n",
    "\n",
    "<hr>"
   ]
  },
  {
   "cell_type": "markdown",
   "metadata": {},
   "source": [
    "\n",
    "## The Tully–Fisher relation for spiral galaxies\n",
    "\n",
    "In astronomy, the Tully–Fisher relation (TFR) is an empirical relationship between the mass or intrinsic luminosity of a spiral galaxy and its asymptotic rotation velocity (maximum rotation). It was first published in 1977 by astronomers R. Brent Tully and J. Richard Fisher. \n",
    "\n",
    "Several different forms of the TFR exist, depending on which precise measures of mass, luminosity or rotation velocity one takes it to relate. Tully and Fisher used optical luminosity, but subsequent work showed the relation to be tighter when defined using microwave to infrared (K band) radiation (a good proxy for stellar mass), and even tighter when luminosity is replaced by the galaxy's *total baryonic mass* (the sum of its mass in stars and gas).[2] This latter form of the relation is known as the Baryonic Tully–Fisher relation (BTFR), and states that baryonic mass is proportional to velocity to the power of roughly 3.5–4.\n",
    "\n",
    "The TFR can be used to estimate the distance to spiral galaxies by allowing the luminosity of a galaxy to be derived from its directly measurable line width. The distance can then be found by comparing the luminosity to the apparent brightness. Thus the TFR constitutes a rung of the cosmic distance ladder, where it is calibrated using more direct distance measurement techniques and used in turn to calibrate methods extending to larger distance.\n",
    "\n",
    "In the dark matter paradigm, a galaxy's rotation velocity (and hence line width) is primarily determined by the mass of the dark matter halo in which it lives, making the TFR a manifestation of the connection between visible and dark matter mass. In Modified Newtonian dynamics (MOND), the BTFR (with power-law index exactly 4) is a direct consequence of the gravitational force law effective at low acceleration."
   ]
  },
  {
   "cell_type": "code",
   "execution_count": 1,
   "metadata": {},
   "outputs": [
    {
     "name": "stdout",
     "output_type": "stream",
     "text": [
      "[(nan,  0.94,  17.,  4.,  5.88, 0.15,  6.64, 0.2 , nan)\n",
      " (nan,  3.34,  20., 12.,  6.99, 0.15,  7.33, 0.2 , nan)\n",
      " (nan,  4.5 ,  20.,  6.,  6.81, 0.15,  7.45, 0.2 ,  1.)\n",
      " (nan,  3.24,  25.,  3.,  7.24, 0.15,  7.54, 0.2 ,  1.)\n",
      " (nan,  3.2 ,  27.,  4.,  6.94, 0.15,  7.3 , 0.2 ,  1.)\n",
      " (nan,  6.5 ,  29.,  5.,  6.76, 0.2 ,  7.32, 0.13,  3.)\n",
      " (nan,  3.1 ,  30.,  6.,  7.26, 0.15,  7.56, 0.2 ,  1.)\n",
      " (nan,  3.6 ,  31.,  4.,  6.67, 0.15,  7.85, 0.2 ,  1.)\n",
      " (nan,  7.83,  35.,  6.,  7.72, 0.15,  7.93, 0.2 ,  1.)\n",
      " (nan,  3.01,  37.,  4.,  7.78, 0.15,  8.32, 0.2 ,  1.)\n",
      " (nan, 14.1 ,  37.,  7.,  7.58, 0.2 ,  7.96, 0.06,  3.)\n",
      " (nan,  0.95,  38.,  5.,  7.34, 0.15,  7.75, 0.2 ,  2.)\n",
      " (nan,  5.6 ,  38.,  5.,  7.34, 0.15,  8.02, 0.2 ,  1.)\n",
      " (nan,  5.4 ,  40.,  4.,  7.57, 0.15,  7.78, 0.2 ,  1.)\n",
      " (nan,  7.4 ,  41.,  4.,  7.2 , 0.15,  7.56, 0.2 ,  1.)\n",
      " (nan,  3.  ,  44.,  3.,  7.24, 0.15,  8.45, 0.2 , nan)\n",
      " (nan, 18.5 ,  45.,  6.,  6.97, 0.2 ,  7.94, 0.05,  3.)\n",
      " (nan,  5.5 ,  53.,  5.,  6.88, 0.2 ,  8.29, 0.15,  3.)\n",
      " (nan,  4.3 ,  54.,  3.,  8.07, 0.15,  8.74, 0.2 ,  2.)\n",
      " (nan,  3.  ,  56.,  5.,  7.28, 0.15,  7.85, 0.2 ,  1.)\n",
      " (nan,  5.1 ,  58.,  3.,  8.25, 0.37,  8.46, 0.39,  2.)\n",
      " (nan, 12.2 ,  59.,  7.,  7.63, 0.2 ,  8.62, 0.07,  3.)\n",
      " (nan,  7.5 ,  59.,  6.,  7.77, 0.15,  8.58, 0.2 ,  1.)\n",
      " (nan,  3.2 ,  60.,  5.,  8.45, 0.15,  9.09, 0.2 ,  2.)\n",
      " (nan, 12.6 ,  64.,  5.,  8.12, 0.39,  9.21, 0.41,  2.)\n",
      " (nan,  1.3 ,  66.,  3.,  7.41, 0.15,  8.79, 0.2 ,  2.)\n",
      " (nan, 17.4 ,  66.,  7.,  8.09, 0.15,  9.02, 0.2 ,  1.)\n",
      " (nan, 17.9 ,  68.,  7.,  7.41, 0.2 ,  9.06, 0.05,  3.)\n",
      " (nan,  4.  ,  68.,  5.,  8.94, 0.15,  9.2 , 0.2 ,  2.)\n",
      " (nan, 18.6 ,  72.,  6.,  9.22, 0.16,  9.28, 0.2 ,  2.)\n",
      " (nan, 13.  ,  74.,  3.,  8.75, 0.27,  9.32, 0.29,  2.)\n",
      " (nan,  3.45,  77.,  3.,  8.7 , 0.15,  9.23, 0.2 ,  2.)\n",
      " (nan,  4.65,  78.,  3.,  8.36, 0.15,  8.96, 0.2 ,  2.)\n",
      " (nan,  6.5 ,  79.,  3.,  8.17, 0.37,  9.05, 0.39,  2.)\n",
      " (nan, 48.  ,  83.,  8.,  8.3 , 0.21,  9.04, 0.24,  2.)\n",
      " (nan, 79.  ,  83.,  5.,  9.  , 0.19,  9.33, 0.22,  2.)\n",
      " (nan, 10.4 ,  84.,  5.,  8.96, 0.15,  9.32, 0.2 ,  2.)\n",
      " (nan,  3.78,  84., 10.,  7.99, 0.15,  8.78, 0.2 ,  2.)\n",
      " (nan,  5.7 ,  90.,  3.,  8.98, 0.38,  9.27, 0.4 ,  2.)\n",
      " (nan,  7.9 ,  95.,  3.,  8.92, 0.15,  9.01, 0.17,  2.)\n",
      " (nan, 18.6 , 108.,  3.,  9.53, 0.16,  9.74, 0.2 ,  2.)\n",
      " (nan, 61.  , 111.,  5.,  9.41, 0.17,  9.63, 0.21,  2.)\n",
      " (nan, 85.  , 118.,  4.,  9.5 , 0.18,  9.87, 0.22,  2.)\n",
      " (nan, 77.  , 120.,  6.,  9.62, 0.18,  9.71, 0.22,  2.)\n",
      " (nan, 80.  , 124.,  5.,  9.38, 0.18,  9.65, 0.22,  2.)\n",
      " (nan,  3.18, 134.,  3.,  9.61, 0.15,  9.77, 0.2 ,  2.)\n",
      " (nan, 14.5 , 149.,  3., 10.12, 0.15, 10.29, 0.2 ,  2.)]\n"
     ]
    }
   ],
   "source": [
    "# load up the various python libraries we need. \n",
    "from astropy.table import Table\n",
    "import numpy as np\n",
    "import matplotlib.pyplot as plt\n",
    "from pylab import *\n",
    "from astropy.io import ascii\n",
    "from astropy.io import fits\n",
    "from astropy.io import ascii\n",
    "\n",
    "# load data table\n",
    "\n",
    "data = np.genfromtxt(\"gasrichdatatable.txt\",  names=['Galaxy','D','Vc','errVc','logMstar','errMstar','logMgas','errMgas','Ref.'])\n",
    "print(data)\n",
    "\n",
    "# Galaxy - name of the galaxy\n",
    "# D - distance to the galaxy in MPc,\n",
    "# Vc - rotation velocity (km/s)\n",
    "# errVc - error in the rotation velocity\n",
    "# logMstar - log of stellar mass (in Solar Masses)\n",
    "# errMstar - error in the stellar mass\n",
    "# logMgas - log of the gas mass (in Solar Masses)\n",
    "# errMgas - error in the gas mass\n",
    "# Ref. -  reference for these values\n",
    "\n",
    "Mstar = 10**data['logMstar']"
   ]
  },
  {
   "cell_type": "markdown",
   "metadata": {},
   "source": [
    "## 1. Plot any of the three intrinsic qualities of the galaxies (logM\\*, logMg or vc) against distance (D)."
   ]
  },
  {
   "cell_type": "code",
   "execution_count": 2,
   "metadata": {},
   "outputs": [],
   "source": [
    "# student work below \n",
    "\n",
    "\n"
   ]
  },
  {
   "cell_type": "markdown",
   "metadata": {},
   "source": [
    "## 2. Plot the stellar mass (derived from the total stellar luminosity) against the log(velocity)"
   ]
  },
  {
   "cell_type": "code",
   "execution_count": 3,
   "metadata": {},
   "outputs": [],
   "source": [
    "# student work below \n"
   ]
  },
  {
   "cell_type": "markdown",
   "metadata": {},
   "source": [
    "## 3. Plot the T-F relation: log(M*) vs Vc \n",
    "\n",
    "plot the log of the stellar mass against circular velocity. Show with and without errorbars.\n",
    "Label your axes!"
   ]
  },
  {
   "cell_type": "code",
   "execution_count": 4,
   "metadata": {},
   "outputs": [],
   "source": [
    "\n",
    "# student work below \n"
   ]
  },
  {
   "cell_type": "markdown",
   "metadata": {},
   "source": [
    "## 4. Is this consistent with a linear relation? Does there appear to be intrinsic scatter in this relation? Over how many orders of magnitude does any scaling relation hold?"
   ]
  },
  {
   "cell_type": "markdown",
   "metadata": {},
   "source": [
    "*your answer here*\n",
    "\n",
    "This is a linear relationship but intrinsic scatter is indeed still present. "
   ]
  },
  {
   "cell_type": "markdown",
   "metadata": {},
   "source": [
    "## 5. Plot log gas and stellar mass against each other. \n",
    "\n",
    "Do the log of stellar and gas mass correlate? Plot them against each other."
   ]
  },
  {
   "cell_type": "code",
   "execution_count": 5,
   "metadata": {},
   "outputs": [],
   "source": [
    "# student work below \n",
    "\n"
   ]
  },
  {
   "cell_type": "markdown",
   "metadata": {},
   "source": [
    "## 6. Add gas and stellar mass together into log(M*+Mg) and plot against Vc \n",
    "\n",
    "How does the *total* mass observed compare against the rotational velocity."
   ]
  },
  {
   "cell_type": "code",
   "execution_count": 6,
   "metadata": {},
   "outputs": [],
   "source": [
    "# student work below \n",
    "\n"
   ]
  },
  {
   "cell_type": "markdown",
   "metadata": {},
   "source": [
    "## 7. Compare against the original T-F relation you made, did the scatter go down? Is the Baryonic T-F a better measure of total mass?"
   ]
  },
  {
   "cell_type": "markdown",
   "metadata": {},
   "source": [
    "*Your answer here*\n",
    "\n",
    "The scatter has lessened but it looks a little less linear (perhaps another component (molecular gas? or relatively more dark matter?) is still missing in the most massive galaxies."
   ]
  },
  {
   "cell_type": "markdown",
   "metadata": {},
   "source": [
    "## 8. Fit a line through the T-F\n",
    "\n",
    "Fit a line through T-F relation using linear regression, both the one with just the stellar mass and one with both gas and stellar mass (Baryonic T-F).\n",
    "What do you notice about both relations? "
   ]
  },
  {
   "cell_type": "code",
   "execution_count": 7,
   "metadata": {},
   "outputs": [],
   "source": [
    "# student work here\n",
    "\n",
    "\n",
    "\n",
    "\n",
    "\n"
   ]
  },
  {
   "cell_type": "markdown",
   "metadata": {},
   "source": [
    "# 9. Fit a line through the stellar and baryonic TF including the errorbars.\n",
    "\n",
    "stellar T-F: use the stellar mass only.\n",
    "\n",
    "Baryonic T-F: use the combined gas and stellar mass.\n",
    "\n",
    "Fit without errors: linear regression\n",
    "Fit *with velocity errors*: polyfit.\n",
    "\n"
   ]
  },
  {
   "cell_type": "code",
   "execution_count": 8,
   "metadata": {},
   "outputs": [],
   "source": [
    "# student work here"
   ]
  },
  {
   "cell_type": "markdown",
   "metadata": {},
   "source": [
    "## 10. Interpretation\n",
    "\n",
    "Compare to the description of the T-F relation at the start. How does this compare to $M \\propto v_c^{3.5-4}$? Is this in fact a linear relation between log(M) and Vc?"
   ]
  },
  {
   "cell_type": "markdown",
   "metadata": {},
   "source": [
    "*your answer here*"
   ]
  },
  {
   "cell_type": "code",
   "execution_count": null,
   "metadata": {},
   "outputs": [],
   "source": []
  }
 ],
 "metadata": {
  "kernelspec": {
   "display_name": "Python 3",
   "language": "python",
   "name": "python3"
  },
  "language_info": {
   "codemirror_mode": {
    "name": "ipython",
    "version": 3
   },
   "file_extension": ".py",
   "mimetype": "text/x-python",
   "name": "python",
   "nbconvert_exporter": "python",
   "pygments_lexer": "ipython3",
   "version": "3.5.4"
  }
 },
 "nbformat": 4,
 "nbformat_minor": 2
}
