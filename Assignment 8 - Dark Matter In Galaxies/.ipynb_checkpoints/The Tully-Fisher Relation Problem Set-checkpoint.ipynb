{
 "cells": [
  {
   "cell_type": "markdown",
   "metadata": {},
   "source": [
    "# The Tully-Fisher Relation\n",
    "\n",
    "## Authors\n",
    "B.W. Holwerda\n",
    "\n",
    "## Learning Goals\n",
    "* Spiral Galaxies scaling relations hold over many orders of magnitude\n",
    "* The T-F has intrinsic scatter in it.\n",
    "* To account for dark matter content, all other components need to be accounted for (gas mass etc).\n",
    "\n",
    "## Keywords\n",
    "Dark Matter, Scaling Relation, Distance Measures\n",
    "\n",
    "## Companion Content\n",
    "Ryden & Peterson's \"Foundations in Astrophysics\" \n",
    "\n",
    "## Summary\n",
    "Evidence of dark matter in galaxies is predominantly from their kinematics. \n",
    "\n",
    "rotation curve and T-F data from: http://astroweb.case.edu/ssm/data/\n",
    "\n",
    "<hr>"
   ]
  },
  {
   "cell_type": "markdown",
   "metadata": {},
   "source": [
    "\n",
    "## Student Name and ID:\n",
    "\n",
    "\n",
    "\n",
    "## Date:\n",
    "\n",
    "<hr>"
   ]
  },
  {
   "cell_type": "code",
   "execution_count": 15,
   "metadata": {},
   "outputs": [
    {
     "name": "stdout",
     "output_type": "stream",
     "text": [
      " Galaxy  D    Vc errVc logM* errM* logMg errMg Ref.\n",
      "------- ---- --- ----- ----- ----- ----- ----- ----\n",
      " DDO210 0.94  17     4  5.88  0.15  6.64   0.2  1,2\n",
      "   CamB 3.34  20    12  6.99  0.15  7.33   0.2  1,2\n",
      "UGC8215  4.5  20     6  6.81  0.15  7.45   0.2    1\n",
      " DDO183 3.24  25     3  7.24  0.15  7.54   0.2    1\n",
      "UGC8833  3.2  27     4  6.94  0.15   7.3   0.2    1\n",
      " D564-8  6.5  29     5  6.76   0.2  7.32  0.13    3\n",
      " DDO181  3.1  30     6  7.26  0.15  7.56   0.2    1\n",
      " P51659  3.6  31     4  6.67  0.15  7.85   0.2    1\n",
      " KK9824 7.83  35     6  7.72  0.15  7.93   0.2    1\n",
      " UGCA92 3.01  37     4  7.78  0.15  8.32   0.2    1\n",
      "    ...  ... ...   ...   ...   ...   ...   ...  ...\n",
      " IC2233 10.4  84     5  8.96  0.15  9.32   0.2    2\n",
      "NGC2915 3.78  84    10  7.99  0.15  8.78   0.2    2\n",
      "NGC5585  5.7  90     3  8.98  0.38  9.27   0.4    2\n",
      "UGC3711  7.9  95     3  8.92  0.15  9.01  0.17    2\n",
      "UGC6983 18.6 108     3  9.53  0.16  9.74   0.2    2\n",
      "F563-V2 61.0 111     5  9.41  0.17  9.63  0.21    2\n",
      " F568-1 85.0 118     4   9.5  0.18  9.87  0.22    2\n",
      " F568-3 77.0 120     6  9.62  0.18  9.71  0.22    2\n",
      "F568-V1 80.0 124     5  9.38  0.18  9.65  0.22    2\n",
      "NGC2403 3.18 134     3  9.61  0.15  9.77   0.2    2\n",
      "NGC3198 14.5 149     3 10.12  0.15 10.29   0.2    2\n",
      "Length = 47 rows\n"
     ]
    }
   ],
   "source": [
    "# load up the various python libraries we need. \n",
    "from astropy.table import Table\n",
    "import numpy as np\n",
    "import matplotlib.pyplot as plt\n",
    "from pylab import *\n",
    "from astropy.io import ascii\n",
    "from astropy.io import fits\n",
    "from astropy.io import ascii\n",
    "\n",
    "# load data table\n",
    "data = ascii.read(\"gasrichdatatable.txt\",names=['Galaxy','D','Vc','errVc','logM*','errM*','logMg','errMg','Ref.'])  \n",
    "print(data)\n",
    "\n",
    "# Galaxy - name of the galaxy\n",
    "# D - distance to the galaxy in MPc,\n",
    "# Vc - rotation velocity (km/s)\n",
    "# errVc - error in the rotation velocity\n",
    "# logM* - log of stellar mass\n",
    "# errM* - error in the stellar mass\n",
    "# logMg - log of the gas mass\n",
    "# errMg - error in the gas mass\n",
    "# Ref. -  reference for these values\n",
    "\n",
    "Mstar = 10**data['logM*']"
   ]
  },
  {
   "cell_type": "markdown",
   "metadata": {},
   "source": [
    "## 1. Plot any of the three intrinsic qualities of the galaxies (logM\\*, logMg or vc) against distance (D)."
   ]
  },
  {
   "cell_type": "code",
   "execution_count": 1,
   "metadata": {},
   "outputs": [],
   "source": [
    "# student work below \n",
    "\n"
   ]
  },
  {
   "cell_type": "markdown",
   "metadata": {},
   "source": [
    "## 2. Plot the stellar mass (derived from the total stellar luminosity) against the log(velocity)"
   ]
  },
  {
   "cell_type": "code",
   "execution_count": 2,
   "metadata": {},
   "outputs": [],
   "source": [
    "# student work below \n"
   ]
  },
  {
   "cell_type": "markdown",
   "metadata": {},
   "source": [
    "## 3. Plot the T-F relation: log(M*) vs Vc "
   ]
  },
  {
   "cell_type": "code",
   "execution_count": 3,
   "metadata": {},
   "outputs": [],
   "source": [
    "\n",
    "# student work below \n"
   ]
  },
  {
   "cell_type": "markdown",
   "metadata": {},
   "source": [
    "## 4. Is this consistent with a linear relation? Does there appear to be intrinsic scatter in this relation? Over how many orders of magnitude does any scaling relation hold?"
   ]
  },
  {
   "cell_type": "markdown",
   "metadata": {},
   "source": [
    "*your answer here*\n",
    "\n"
   ]
  },
  {
   "cell_type": "markdown",
   "metadata": {},
   "source": [
    "## 5. Plot log gas and stellar mass against each other. "
   ]
  },
  {
   "cell_type": "code",
   "execution_count": 6,
   "metadata": {},
   "outputs": [],
   "source": [
    "# student work below \n",
    "\n",
    "\n"
   ]
  },
  {
   "cell_type": "markdown",
   "metadata": {},
   "source": [
    "## 6. Add gas and stellar mass together into log(M8+Mg) and plot against Vc "
   ]
  },
  {
   "cell_type": "code",
   "execution_count": 7,
   "metadata": {},
   "outputs": [],
   "source": [
    "# student work below \n",
    "\n"
   ]
  },
  {
   "cell_type": "markdown",
   "metadata": {},
   "source": [
    "## 7. Compare against the original T-F relation you made, did the scatter go down? Is the Baryonic T-F a better measure of total mass?"
   ]
  },
  {
   "cell_type": "markdown",
   "metadata": {},
   "source": [
    "*Your answer here*\n",
    "\n"
   ]
  },
  {
   "cell_type": "code",
   "execution_count": null,
   "metadata": {},
   "outputs": [],
   "source": []
  }
 ],
 "metadata": {
  "kernelspec": {
   "display_name": "Python 3",
   "language": "python",
   "name": "python3"
  },
  "language_info": {
   "codemirror_mode": {
    "name": "ipython",
    "version": 3
   },
   "file_extension": ".py",
   "mimetype": "text/x-python",
   "name": "python",
   "nbconvert_exporter": "python",
   "pygments_lexer": "ipython3",
   "version": "3.5.4"
  }
 },
 "nbformat": 4,
 "nbformat_minor": 2
}
