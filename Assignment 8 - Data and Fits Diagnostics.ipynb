{
 "cells": [
  {
   "cell_type": "markdown",
   "metadata": {},
   "source": [
    "# Data, Diagnostics and Line Fits\n",
    "\n",
    "## Authors\n",
    "B.W. Holwerda\n",
    "\n",
    "## Learning Goals\n",
    "\n",
    "* numpy \n",
    "\n",
    "## Keywords\n",
    "Anacombe data, numpy, mean, mode and standard deviation.\n",
    "\n",
    "## Companion Content\n",
    "\n",
    "## Summary\n",
    "Evidence of dark matter in galaxies is predominantly from their kinematics. \n",
    "\n",
    "rotation curve and T-F data from: http://astroweb.case.edu/ssm/data/\n",
    "\n",
    "<hr>"
   ]
  },
  {
   "cell_type": "code",
   "execution_count": 37,
   "metadata": {},
   "outputs": [
    {
     "name": "stdout",
     "output_type": "stream",
     "text": [
      "[ 10.   8.  13.   9.  11.  14.   6.   4.  12.   7.   5.]\n"
     ]
    }
   ],
   "source": [
    "import numpy as np\n",
    "import matplotlib.pyplot as plt\n",
    "%matplotlib inline\n",
    "\n",
    "# reading in the data\n",
    "\n",
    "data = np.genfromtxt(\"anacombe.csv\",delimiter=',',names=True) #['x1','y1','x2','y2','x3','y3','x4','y4'])\n",
    "print(data['x1'])\n",
    "\n"
   ]
  },
  {
   "cell_type": "markdown",
   "metadata": {},
   "source": [
    "## Exercise 1: Mean and standard deviation of all x,y combinations.\n",
    "\n",
    "Find the mean and standard deviation using numpy functions of all four x,y combinations."
   ]
  },
  {
   "cell_type": "code",
   "execution_count": 1,
   "metadata": {},
   "outputs": [],
   "source": [
    "# student work here\n"
   ]
  },
  {
   "cell_type": "markdown",
   "metadata": {},
   "source": [
    "## Note the similarities and differences"
   ]
  },
  {
   "cell_type": "markdown",
   "metadata": {},
   "source": [
    "    *your answer here*"
   ]
  },
  {
   "cell_type": "markdown",
   "metadata": {},
   "source": [
    "## Exercise 2: Fit a line through all four x,y Combinations\n",
    "\n",
    "Fit a line using polyfit (or linear regression) through all four x,y combinations. \n",
    "Print out the slope and intercepts. What do you notice?"
   ]
  },
  {
   "cell_type": "code",
   "execution_count": 2,
   "metadata": {},
   "outputs": [],
   "source": [
    "# student work here\n",
    "\n"
   ]
  },
  {
   "cell_type": "markdown",
   "metadata": {},
   "source": [
    "### Exercise 4: calculate $\\chi^2$\n",
    "\n",
    "Calculate the $\\chi^2$ value of the fits to the data"
   ]
  },
  {
   "cell_type": "code",
   "execution_count": 3,
   "metadata": {},
   "outputs": [],
   "source": [
    "# student work\n"
   ]
  },
  {
   "cell_type": "markdown",
   "metadata": {},
   "source": [
    "## Exercise 3: Plot data and fit \n",
    "\n",
    "Plot all four x,y data in four different plots with the fit overplot.\n"
   ]
  },
  {
   "cell_type": "code",
   "execution_count": 4,
   "metadata": {},
   "outputs": [],
   "source": [
    "# student work here\n"
   ]
  },
  {
   "cell_type": "markdown",
   "metadata": {},
   "source": [
    "### Exercise 4: Are these the same data?\n",
    "\n",
    "Are the four x,y combinations the same or are they different? How could one distinguish better between these?\n"
   ]
  },
  {
   "cell_type": "markdown",
   "metadata": {},
   "source": [
    "* your answer here*"
   ]
  },
  {
   "cell_type": "code",
   "execution_count": null,
   "metadata": {},
   "outputs": [],
   "source": []
  }
 ],
 "metadata": {
  "kernelspec": {
   "display_name": "Python 3",
   "language": "python",
   "name": "python3"
  },
  "language_info": {
   "codemirror_mode": {
    "name": "ipython",
    "version": 3
   },
   "file_extension": ".py",
   "mimetype": "text/x-python",
   "name": "python",
   "nbconvert_exporter": "python",
   "pygments_lexer": "ipython3",
   "version": "3.5.4"
  }
 },
 "nbformat": 4,
 "nbformat_minor": 2
}
