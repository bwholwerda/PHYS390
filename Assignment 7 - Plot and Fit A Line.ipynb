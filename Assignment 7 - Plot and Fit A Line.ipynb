{
 "cells": [
  {
   "cell_type": "markdown",
   "metadata": {},
   "source": [
    "# Plot and Fit a Straight Line\n",
    "\n",
    "## Authors\n",
    "B.W. Holwerda\n",
    "\n",
    "## Learning Goals\n",
    "\n",
    "* How to fit a line to well-behaved data\n",
    "* The $\\chi^2$ diagnostic\n",
    "* Fitting with and without errors taken into account.\n",
    "\n",
    "## Keywords\n",
    "Line fits, diagnostics, $\\chi^2$\n",
    "\n",
    "## Companion Content\n",
    "-- \n",
    "\n",
    "## Summary\n",
    "\n",
    "A line fit is the most fundamental model for most physical sciences. But there are multiple ways to apply one. Which one is best? How to choose? Should one take errors into account? \n",
    "\n",
    "<hr>"
   ]
  },
  {
   "cell_type": "markdown",
   "metadata": {},
   "source": [
    "\n",
    "## Student Name and ID:\n",
    "\n",
    "\n",
    "\n",
    "## Date:\n",
    "\n",
    "<hr>"
   ]
  },
  {
   "cell_type": "code",
   "execution_count": 6,
   "metadata": {},
   "outputs": [],
   "source": [
    "import numpy as np\n",
    "import matplotlib.pyplot as plt\n",
    "%matplotlib inline\n",
    "\n",
    "np.random.seed(15) #set seed for reproducibility purposes\n",
    "x = np.arange(10) \n",
    "y = 2*x + 5 + np.random.randn(10) #generate some data with random gaussian scatter\n",
    "dy = np.random.rand(10) #these are the uncertainties"
   ]
  },
  {
   "cell_type": "markdown",
   "metadata": {},
   "source": [
    "### Exercise 1\n",
    "\n",
    "plot the data"
   ]
  },
  {
   "cell_type": "code",
   "execution_count": 7,
   "metadata": {},
   "outputs": [],
   "source": [
    "# student work\n"
   ]
  },
  {
   "cell_type": "markdown",
   "metadata": {},
   "source": [
    "### Exercise 2\n",
    "\n",
    "plot the data with the errorbars."
   ]
  },
  {
   "cell_type": "code",
   "execution_count": 8,
   "metadata": {},
   "outputs": [],
   "source": [
    "# Student work here\n"
   ]
  },
  {
   "cell_type": "markdown",
   "metadata": {},
   "source": [
    "## Fitting a Line\n",
    "\n",
    "Fit a straight line."
   ]
  },
  {
   "cell_type": "code",
   "execution_count": 9,
   "metadata": {},
   "outputs": [],
   "source": [
    "# This fits the data without taking uncertainties into account\n",
    "from scipy import stats\n",
    "slope, intercept, r_value, p_value, std_err = stats.linregress(x, y)"
   ]
  },
  {
   "cell_type": "code",
   "execution_count": 10,
   "metadata": {},
   "outputs": [],
   "source": [
    "# print slope and intercept"
   ]
  },
  {
   "cell_type": "markdown",
   "metadata": {},
   "source": [
    "### Exercise 3 \n",
    "\n",
    "Plot the *linear regression* fit on top of the data."
   ]
  },
  {
   "cell_type": "code",
   "execution_count": 11,
   "metadata": {},
   "outputs": [],
   "source": [
    "# student work here\n"
   ]
  },
  {
   "cell_type": "code",
   "execution_count": 12,
   "metadata": {},
   "outputs": [
    {
     "data": {
      "text/plain": [
       "(2.1503799185903665, 3.2365102504903334)"
      ]
     },
     "execution_count": 12,
     "metadata": {},
     "output_type": "execute_result"
    }
   ],
   "source": [
    "# use polyfit\n",
    "slope2,intercept2 = np.polyfit(x,y,deg=1,w=1/dy)\n",
    "slope2, intercept2"
   ]
  },
  {
   "cell_type": "markdown",
   "metadata": {},
   "source": [
    "### Exercise 4 \n",
    "\n",
    "Plot the *linear regression* and Polyfit fit on top of the data.\n",
    "\n",
    "* show the errors.\n",
    "* distinguish between the two fits."
   ]
  },
  {
   "cell_type": "code",
   "execution_count": 13,
   "metadata": {},
   "outputs": [],
   "source": [
    "# student work here"
   ]
  },
  {
   "cell_type": "markdown",
   "metadata": {},
   "source": [
    "### Exercise 5\n",
    "\n",
    "Which one of these two fits takes the error in the data into account?\n"
   ]
  },
  {
   "cell_type": "markdown",
   "metadata": {},
   "source": [
    "*your answer here*"
   ]
  },
  {
   "cell_type": "markdown",
   "metadata": {},
   "source": [
    "### Model fitting from scratch. "
   ]
  },
  {
   "cell_type": "markdown",
   "metadata": {},
   "source": [
    "Let's now implement the $\\chi^2$ approach.\n",
    "\n",
    "The $\\chi^2$ is defined as the sum of all the differences between model values -f(x)- and data -y- squared normalized by the error quared or:\n",
    "\n",
    "$$ \\chi^2 = \\Sigma { (y - f(x) )^2  \\over \\sigma^2 }$$\n",
    "\n",
    "If you have several fits using the *same number of degrees of freedom* this is a useful metric if the \n",
    "In the case of a straight line, the fit function f(x) has two degrees of freedom, the slope and the intercept.\n",
    "\n",
    "Benefits: \n",
    "* includes the (Gaussian) error for the measurements.\n",
    "* compares model and data directly\n",
    "* Single number diagnostic of the quality of the fit.\n",
    "\n",
    "Drawbacks:\n",
    "* The errors are assumed to be Gaussian and representative of the variance in the data.\n",
    "* Tells you little whether the model has the right number of degrees of freedom.\n",
    "\n",
    "If you want to account for the number of degrees of freedom, we use the *reduced $\\chi^2$*. This is the $\\chi^2$ divided by the number of degrees of freedom:\n",
    "\n",
    "$$ reduced ~ \\chi^2 = {\\chi^2 \\over N_{DOF} }$$\n",
    "\n",
    "The parameters I want to fit are *slope, intercept*.\n",
    "\n",
    "Just by looking at the data I can tell that the slope should be somewhere between 1 and 3, and the intercept between 2.5 and 6.5.\n",
    "\n",
    "Our grid of possible models would then be"
   ]
  },
  {
   "cell_type": "code",
   "execution_count": 24,
   "metadata": {},
   "outputs": [],
   "source": [
    "slopes = np.linspace(1,3,100) \n",
    "intercepts = np.linspace(2.5,6.5,100)\n",
    "#note: these are already 10,000 models (curse of dimensionality!)"
   ]
  },
  {
   "cell_type": "markdown",
   "metadata": {},
   "source": [
    "For convenience, we can define two functions that describe our model (a straight line) and the chi2 function:"
   ]
  },
  {
   "cell_type": "code",
   "execution_count": 25,
   "metadata": {},
   "outputs": [],
   "source": [
    "def model(x,m,b):\n",
    "    return m*x+b #straight line\n",
    "\n",
    "def chi2(m,b,x,y,err):\n",
    "    return np.sum(((model(x,m,b) - y)**2)/err**2)"
   ]
  },
  {
   "cell_type": "markdown",
   "metadata": {},
   "source": [
    "This line calculate chi2 values for our 10,000 combinations"
   ]
  },
  {
   "cell_type": "code",
   "execution_count": 26,
   "metadata": {},
   "outputs": [],
   "source": [
    "allchi2 = np.array([[chi2(m,b,x,y,dy) for m in slopes] for b in intercepts])"
   ]
  },
  {
   "cell_type": "code",
   "execution_count": 27,
   "metadata": {},
   "outputs": [
    {
     "data": {
      "text/plain": [
       "(100, 100)"
      ]
     },
     "execution_count": 27,
     "metadata": {},
     "output_type": "execute_result"
    }
   ],
   "source": [
    "allchi2.shape"
   ]
  },
  {
   "cell_type": "markdown",
   "metadata": {},
   "source": [
    "The next step is to figure out what (slope,intercept) pair gives the minimum chi2. This can be done with np.argmin \n",
    "but the index of the minimum is calculated after flattening the array, so we need to use a trick to get the indices for rows and columns."
   ]
  },
  {
   "cell_type": "code",
   "execution_count": 28,
   "metadata": {},
   "outputs": [
    {
     "name": "stdout",
     "output_type": "stream",
     "text": [
      "186.213920155\n",
      "1857\n",
      "(18, 57)\n"
     ]
    }
   ],
   "source": [
    "print(allchi2.min()) #min chi2 value\n",
    "print(allchi2.argmin()) #index of min on flattened array\n",
    "print(np.unravel_index(allchi2.argmin(), allchi2.shape)) #indices of minimum value as a (row, col) pair"
   ]
  },
  {
   "cell_type": "code",
   "execution_count": 29,
   "metadata": {},
   "outputs": [
    {
     "name": "stdout",
     "output_type": "stream",
     "text": [
      "2.15151515152 3.22727272727\n"
     ]
    }
   ],
   "source": [
    "#note that the inner (second) index is for slopes, the outer(first) index is for intercepts\n",
    "\n",
    "print(slopes[57],intercepts[18]) #comes up pretty close to the result of np.polyfit."
   ]
  },
  {
   "cell_type": "code",
   "execution_count": null,
   "metadata": {},
   "outputs": [],
   "source": [
    "#### Exercise 5\n",
    "\n",
    "plot the best fit with the lowest $\\chi^2$\n"
   ]
  },
  {
   "cell_type": "code",
   "execution_count": 30,
   "metadata": {},
   "outputs": [
    {
     "data": {
      "image/png": "[encoded data removed]",
      "text/plain": [
       "<matplotlib.figure.Figure at 0x7ff9616a5978>"
      ]
     },
     "metadata": {},
     "output_type": "display_data"
    }
   ],
   "source": [
    "# plot the best fit with the lowest \\chi^2\n",
    "\n",
    "plt.errorbar(x,y,yerr=dy,marker='.',c='k',ls='None');\n",
    "plt.plot(x, slope*x+intercept,'r-',label = 'Fit with no errors')\n",
    "plt.plot(x, slope2*x+intercept2,'g-',label = 'Fit with errors')\n",
    "plt.plot(x, slopes[57]*x+intercepts[18],'b-',label = 'Lowest $\\chi^2$')\n",
    "\n",
    "plt.legend();\n",
    "\n"
   ]
  },
  {
   "cell_type": "markdown",
   "metadata": {},
   "source": [
    "### Exercise 6: \n",
    "\n",
    "What is the difference between the linear regression method and the polyfit one?\n",
    "\n",
    "How could we make polyfit act like the linear regression fit? "
   ]
  },
  {
   "cell_type": "markdown",
   "metadata": {},
   "source": [
    "* your answer here*"
   ]
  }
 ],
 "metadata": {
  "kernelspec": {
   "display_name": "Python 3",
   "language": "python",
   "name": "python3"
  },
  "language_info": {
   "codemirror_mode": {
    "name": "ipython",
    "version": 3
   },
   "file_extension": ".py",
   "mimetype": "text/x-python",
   "name": "python",
   "nbconvert_exporter": "python",
   "pygments_lexer": "ipython3",
   "version": "3.5.4"
  }
 },
 "nbformat": 4,
 "nbformat_minor": 2
}
