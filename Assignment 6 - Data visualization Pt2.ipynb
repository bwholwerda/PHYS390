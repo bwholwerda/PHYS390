{
 "cells": [
  {
   "cell_type": "markdown",
   "metadata": {},
   "source": [
    "# Assignment 5 - Data Visualization Pt2\n",
    "\n",
    "\n",
    "## Authors\n",
    "B.W. Holwerda\n",
    "\n",
    "## Learning Goals\n",
    "* The different information carries in a scatter plot\n",
    "* Linking data and visualization in a meaningful way\n",
    "* log plots\n",
    "\n",
    "## Keywords\n",
    "python, syntax, jupyter notebook, matplotlib, scatter, log plot, \n",
    "\n",
    "## Companion Content\n",
    "\n",
    "\n",
    "## Summary\n",
    "This is the first of two assignments to learn basic data visualization. Instead of random data points, we will use a subsample of the GAMA data-set.\n",
    "\n",
    "<hr>\n",
    "\n"
   ]
  },
  {
   "cell_type": "markdown",
   "metadata": {},
   "source": [
    "\n",
    "## Student Name and ID:\n",
    "\n",
    "\n",
    "\n",
    "## Date:\n",
    "\n",
    "<hr>"
   ]
  },
  {
   "cell_type": "markdown",
   "metadata": {},
   "source": [
    "# Load in the data from GAMA data\n",
    "\n",
    "The file GAMA.csv contains information on galaxies from the Galaxy And Mass Survey. \n",
    "Each column is a different characteristic of each GAMA Galaxy.\n",
    "\n",
    "0 - GAMA CATAID\n",
    "\n",
    "1 - Stellar mass (log10 solar masses)\n",
    "\n",
    "2 - u-r colour\n",
    "\n",
    "3 - S'ersic index (log10)\n",
    "\n",
    "4 - Half-light radius (log10 kpc)\n",
    "\n",
    "5 - Specific star formation rate (log10 Gyr^-1)\n",
    "\n",
    "Stellar mass is the order magnitude of the total mass of stars. u-r is the color in magnitudes with higher values meaning redder and lower values bluer. The Sersic index is the kind of profile, an index of 1 or 2 is a disk galaxy, an index of 4 is a spheroid galaxy. The half-light radius is the typical size of the galaxy. The last column is how fast it is making new stars. \n",
    "\n",
    "Assignment: load in the GAMA catalog and make a plot that includes all information on these galaxies. Use the plt.scatter(). **Make sure you label your axes!**\n"
   ]
  },
  {
   "cell_type": "code",
   "execution_count": 6,
   "metadata": {},
   "outputs": [
    {
     "name": "stdout",
     "output_type": "stream",
     "text": [
      "<class 'numpy.ndarray'>\n"
     ]
    }
   ],
   "source": [
    "# loading the GAMA data-set\n",
    "import matplotlib.pyplot as plt\n",
    "#from astropy.io import ascii\n",
    "#data = ascii.read(\"GAMA.csv\", format='csv', names=['cataid','Mstar','u-r','n','r50','sSFR'],fast_reader=False)\n",
    "\n",
    "# ALTERNATIVELY, use np.genfromtxt()\n",
    "import numpy as np\n",
    "data = np.genfromtxt(\"GAMA.csv\",  names=['cataid','Mstar','u-r','n','r50','sSFR'], delimiter=',')\n",
    "\n"
   ]
  },
  {
   "cell_type": "code",
   "execution_count": 1,
   "metadata": {},
   "outputs": [],
   "source": [
    "# student work here\n",
    "\n"
   ]
  },
  {
   "cell_type": "markdown",
   "metadata": {},
   "source": [
    "### Can you visualize all properties effectively in one plot?\n",
    "\n",
    "motivate why/why not"
   ]
  },
  {
   "cell_type": "markdown",
   "metadata": {},
   "source": [
    " *your answer here*"
   ]
  },
  {
   "cell_type": "markdown",
   "metadata": {},
   "source": [
    "### Which of the parameters is logarithmic? \n",
    "\n"
   ]
  },
  {
   "cell_type": "markdown",
   "metadata": {},
   "source": [
    " *your answer here*"
   ]
  },
  {
   "cell_type": "markdown",
   "metadata": {},
   "source": [
    "### Generate the same plot as above but with the linear values. \n"
   ]
  },
  {
   "cell_type": "code",
   "execution_count": 2,
   "metadata": {},
   "outputs": [],
   "source": [
    "# student work here\n"
   ]
  },
  {
   "cell_type": "markdown",
   "metadata": {},
   "source": [
    "### Is this plot easier or more difficult to read?"
   ]
  },
  {
   "cell_type": "markdown",
   "metadata": {},
   "source": [
    " *your answer here*"
   ]
  },
  {
   "cell_type": "code",
   "execution_count": null,
   "metadata": {},
   "outputs": [],
   "source": []
  }
 ],
 "metadata": {
  "kernelspec": {
   "display_name": "Python 3",
   "language": "python",
   "name": "python3"
  },
  "language_info": {
   "codemirror_mode": {
    "name": "ipython",
    "version": 3
   },
   "file_extension": ".py",
   "mimetype": "text/x-python",
   "name": "python",
   "nbconvert_exporter": "python",
   "pygments_lexer": "ipython3",
   "version": "3.5.4"
  }
 },
 "nbformat": 4,
 "nbformat_minor": 2
}
